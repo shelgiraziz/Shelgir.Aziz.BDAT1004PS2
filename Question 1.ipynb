{
 "cells": [
  {
   "cell_type": "code",
   "execution_count": 14,
   "id": "9888b403",
   "metadata": {},
   "outputs": [],
   "source": [
    "# Shelgir Aziz\n",
    "# Question 1 \n",
    "# What value is displayed when the last expression (a) is evaluated?\n",
    "# Explain your answer by indicating what happens in every executed statement.\n",
    "\n",
    "a = 0 \n",
    "def b():\n",
    "    global a\n",
    "    a  = c(a)\n",
    "\n",
    "def c(a):\n",
    "    return  a + 2\n",
    "\n"
   ]
  },
  {
   "cell_type": "code",
   "execution_count": 15,
   "id": "c2212852",
   "metadata": {},
   "outputs": [
    {
     "data": {
      "text/plain": [
       "6"
      ]
     },
     "execution_count": 15,
     "metadata": {},
     "output_type": "execute_result"
    }
   ],
   "source": [
    "b()\n",
    "b()\n",
    "b()\n",
    "a\n",
    "\n",
    "# The value that we should expect to be displayed after calling the b() function is 6"
   ]
  },
  {
   "cell_type": "code",
   "execution_count": null,
   "id": "17d3e15d",
   "metadata": {},
   "outputs": [],
   "source": [
    "# We have declared a variable a in the global scope and initialized it with a value of 0\n",
    "# the function b() utilizes the a variable by using the global keyword to reference the global a variable\n",
    "# then calls the c() function and assigns it's return value to a, the global variable\n",
    "# c() function expectes a variable and adds 2 to the variable it was passed to\n",
    "# since we called the funciton b() three times we expect the global variable a which is 0 intially to be added 2 to it 3 times\n",
    "# thus in the end we expect a to be 6"
   ]
  }
 ],
 "metadata": {
  "kernelspec": {
   "display_name": "Python 3 (ipykernel)",
   "language": "python",
   "name": "python3"
  },
  "language_info": {
   "codemirror_mode": {
    "name": "ipython",
    "version": 3
   },
   "file_extension": ".py",
   "mimetype": "text/x-python",
   "name": "python",
   "nbconvert_exporter": "python",
   "pygments_lexer": "ipython3",
   "version": "3.8.13"
  }
 },
 "nbformat": 4,
 "nbformat_minor": 5
}
