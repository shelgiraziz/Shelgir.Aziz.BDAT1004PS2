{
 "cells": [
  {
   "cell_type": "code",
   "execution_count": 6,
   "id": "47a73df9",
   "metadata": {},
   "outputs": [
    {
     "name": "stdout",
     "output_type": "stream",
     "text": [
      "[('24.8\\n28.4',), (27.9,), ('27.6\\n4.2',), (8.3,), ('15.7\\n10.4',), (13.6,), ('20.7\\n20.7',), ('',)]\n",
      "[('Mumbai\\nMumbai',), ('Mumbai',), ('Mumbai\\nLondon',), ('London',), ('London\\nLondon',), ('Cairo',), ('Cairo\\nCairo',)]\n",
      "[('Mumbai', 'India', 'Summer', 27.9, 1549.4)]\n",
      "[('Cairo', 'Egypt', 'Fall', '', 4.5)]\n",
      "[]\n",
      "[]\n",
      "21.0\n",
      "[('Fall', 4.5), ('Fall\\nWinter', 346.0), ('Spring', 169.6), ('Spring\\nSummer', 6.5), ('Summer', 1549.4), ('Summer\\nFall', 157.0), ('Winter', 16.5), ('Winter\\nSpring', 5.9)]\n"
     ]
    }
   ],
   "source": [
    "# Shelgir Aziz\n",
    "# Question 8\n",
    "# Reference: https://mungingdata.com/sqlite/create-database-load-csv-python/\n",
    "\n",
    "import sqlite3\n",
    "import csv\n",
    "\n",
    "conn = sqlite3.connect('temperature_data.db')\n",
    "c = conn.cursor()\n",
    "\n",
    "c.execute('''CREATE TABLE IF NOT EXISTS temperature_data\n",
    "             (City text, Country text, Season text, Temperature real, Rainfall real)''')\n",
    "\n",
    "with open('countries.csv') as csvfile:\n",
    "    reader = csv.reader(csvfile)\n",
    "    next(reader)\n",
    "    for row in reader:\n",
    "        c.execute(\"INSERT INTO temperature_data VALUES (?, ?, ?, ?, ?)\", row)\n",
    "\n",
    "# All the temperature data\n",
    "c.execute(\"SELECT Temperature FROM temperature_data\")\n",
    "all_temperatures = c.fetchall()\n",
    "print(all_temperatures)\n",
    "\n",
    "# All the cities, but without repetition\n",
    "c.execute(\"SELECT DISTINCT City FROM temperature_data\")\n",
    "all_cities = c.fetchall()\n",
    "print(all_cities)\n",
    "\n",
    "# All the records for India\n",
    "c.execute(\"SELECT * FROM temperature_data WHERE Country='India'\")\n",
    "india_records = c.fetchall()\n",
    "print(india_records)\n",
    "\n",
    "# All the Fall records\n",
    "c.execute(\"SELECT * FROM temperature_data WHERE Season='Fall'\")\n",
    "fall_records = c.fetchall()\n",
    "print(fall_records)\n",
    "\n",
    "# The city, country, and season for which the average rainfall is between 200 and 400 millimeters\n",
    "c.execute(\"SELECT City, Country, Season FROM temperature_data WHERE Rainfall BETWEEN 200 AND 400 GROUP BY City, Country, Season HAVING AVG(Rainfall) BETWEEN 200 AND 400\")\n",
    "avg_rainfall_200_400 = c.fetchall()\n",
    "print(avg_rainfall_200_400)\n",
    "\n",
    "# The city and country for which the average Fall temperature is above 20 degrees, in increasing temperature order\n",
    "c.execute(\"SELECT City, Country FROM temperature_data WHERE Season='Fall' GROUP BY City, Country HAVING AVG(Temperature) > 20 ORDER BY AVG(Temperature) ASC\")\n",
    "avg_fall_temp_above_20 = c.fetchall()\n",
    "print(avg_fall_temp_above_20)\n",
    "\n",
    "# The total annual rainfall for Cairo\n",
    "c.execute(\"SELECT SUM(Rainfall) FROM temperature_data WHERE City='Cairo'\")\n",
    "cairo_total_rainfall = c.fetchone()[0]\n",
    "print(cairo_total_rainfall)\n",
    "\n",
    "# The total rainfall for each season\n",
    "c.execute(\"SELECT Season, SUM(Rainfall) FROM temperature_data GROUP BY Season\")\n",
    "total_rainfall_season = c.fetchall()\n",
    "print(total_rainfall_season)\n",
    "\n",
    "\n",
    "conn.close()\n"
   ]
  },
  {
   "cell_type": "code",
   "execution_count": null,
   "id": "64e2c21e",
   "metadata": {},
   "outputs": [],
   "source": []
  }
 ],
 "metadata": {
  "kernelspec": {
   "display_name": "Python 3 (ipykernel)",
   "language": "python",
   "name": "python3"
  },
  "language_info": {
   "codemirror_mode": {
    "name": "ipython",
    "version": 3
   },
   "file_extension": ".py",
   "mimetype": "text/x-python",
   "name": "python",
   "nbconvert_exporter": "python",
   "pygments_lexer": "ipython3",
   "version": "3.8.13"
  }
 },
 "nbformat": 4,
 "nbformat_minor": 5
}
