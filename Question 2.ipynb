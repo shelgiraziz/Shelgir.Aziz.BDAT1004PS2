{
 "cells": [
  {
   "cell_type": "code",
   "execution_count": 9,
   "id": "23964dd4",
   "metadata": {},
   "outputs": [],
   "source": [
    "# Shelgir Aziz\n",
    "# Question 2\n",
    "# Function fileLength(), given to you, takes the name of a file as input and returns the length of the file\n",
    "# Reference: https://stackoverflow.com/questions/6591931/getting-file-size-in-python#:~:text=Use-,os.path.getsize(path),-which%20will\n",
    "\n",
    "import os\n",
    "\n",
    "def file_length(file_path):\n",
    "    if os.path.exists(file_path):\n",
    "        return os.path.getsize(file_path)\n",
    "    else:\n",
    "        print(FileNotFoundError(\"File {} not found.\".format(file_path)))"
   ]
  },
  {
   "cell_type": "code",
   "execution_count": 10,
   "id": "66847166",
   "metadata": {},
   "outputs": [
    {
     "data": {
      "text/plain": [
       "31"
      ]
     },
     "execution_count": 10,
     "metadata": {},
     "output_type": "execute_result"
    }
   ],
   "source": [
    "file_length(\"midterm.py\")"
   ]
  },
  {
   "cell_type": "code",
   "execution_count": 11,
   "id": "67aa0361",
   "metadata": {},
   "outputs": [
    {
     "name": "stdout",
     "output_type": "stream",
     "text": [
      "File idterm.py not found.\n"
     ]
    }
   ],
   "source": [
    "file_length(\"idterm.py\")"
   ]
  },
  {
   "cell_type": "code",
   "execution_count": null,
   "id": "6eab932b",
   "metadata": {},
   "outputs": [],
   "source": []
  }
 ],
 "metadata": {
  "kernelspec": {
   "display_name": "Python 3 (ipykernel)",
   "language": "python",
   "name": "python3"
  },
  "language_info": {
   "codemirror_mode": {
    "name": "ipython",
    "version": 3
   },
   "file_extension": ".py",
   "mimetype": "text/x-python",
   "name": "python",
   "nbconvert_exporter": "python",
   "pygments_lexer": "ipython3",
   "version": "3.8.13"
  }
 },
 "nbformat": 4,
 "nbformat_minor": 5
}
