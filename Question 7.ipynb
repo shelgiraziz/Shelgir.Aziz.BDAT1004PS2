{
 "cells": [
  {
   "cell_type": "code",
   "execution_count": 12,
   "id": "60952e29",
   "metadata": {},
   "outputs": [],
   "source": [
    "# Shelgir Aziz\n",
    "# Question 7\n",
    "# Reference: https://www.w3schools.com/python/module_requests.asp#:~:text=import%20requests%0A%0Ax%20%3D-,requests.get,-(%27https%3A//w3schools\n",
    "\n",
    "import requests\n",
    "import re\n",
    "\n",
    "def webdir(url, depth, indent=0):\n",
    "    if depth < 0:\n",
    "        return\n",
    "    print(' ' * indent + url)\n",
    "    try:\n",
    "        response = requests.get(url)\n",
    "        html = response.text\n",
    "        for link in re.findall(r'href=[\\'\"]?([^\\'\" >]+)', html):\n",
    "            if link.startswith('http'):\n",
    "                new_url = link\n",
    "            else:\n",
    "                new_url = urljoin(url, link)\n",
    "            webdir(new_url, depth - 1, indent + 4)\n",
    "    except requests.exceptions.RequestException as e:\n",
    "        print(' ' * indent + f'Request Error: {e}')\n"
   ]
  },
  {
   "cell_type": "code",
   "execution_count": 13,
   "id": "f264863e",
   "metadata": {},
   "outputs": [
    {
     "name": "stdout",
     "output_type": "stream",
     "text": [
      "http://reed.cs.depaul.edu/lperkovic/csc242/test1.html\n"
     ]
    }
   ],
   "source": [
    "webdir('http://reed.cs.depaul.edu/lperkovic/csc242/test1.html' ,  2,  0)"
   ]
  },
  {
   "cell_type": "code",
   "execution_count": null,
   "id": "e43ca094",
   "metadata": {},
   "outputs": [],
   "source": []
  }
 ],
 "metadata": {
  "kernelspec": {
   "display_name": "Python 3 (ipykernel)",
   "language": "python",
   "name": "python3"
  },
  "language_info": {
   "codemirror_mode": {
    "name": "ipython",
    "version": 3
   },
   "file_extension": ".py",
   "mimetype": "text/x-python",
   "name": "python",
   "nbconvert_exporter": "python",
   "pygments_lexer": "ipython3",
   "version": "3.8.13"
  }
 },
 "nbformat": 4,
 "nbformat_minor": 5
}
