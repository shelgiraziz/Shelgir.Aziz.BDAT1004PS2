{
 "cells": [
  {
   "cell_type": "code",
   "execution_count": 79,
   "id": "b3186642",
   "metadata": {},
   "outputs": [],
   "source": [
    "# Shelgir Aziz\n",
    "# Question 6\n",
    "# Reference: https://docs.python.org/3/library/html.parser.html#:~:text=now%20True.-,Example%20HTML%20Parser%20Application,-%C2%B6\n",
    "\n",
    "from html.parser import HTMLParser\n",
    "import re\n",
    "\n",
    "class HeadingParser(HTMLParser):\n",
    "    def __init__(self):\n",
    "        super().__init__()\n",
    "        self.heading_level = 0\n",
    "        self.in_heading = False\n",
    "    \n",
    "    def handle_starttag(self, tag, attrs):\n",
    "        if tag.startswith('h') and re.match(r'^h[1-6]$', tag):\n",
    "            self.heading_level = tag[1]\n",
    "            self.in_heading = True\n",
    "    \n",
    "    def handle_endtag(self, tag):\n",
    "        if self.in_heading and tag.startswith('h'):\n",
    "            self.heading_level = 0\n",
    "            self.in_heading = False\n",
    "            print()\n",
    "    \n",
    "    def handle_data(self, data):\n",
    "        if self.in_heading:\n",
    "            print(' ' * int(float(self.heading_level)), data.strip())"
   ]
  },
  {
   "cell_type": "code",
   "execution_count": 80,
   "id": "7d7470aa",
   "metadata": {},
   "outputs": [
    {
     "name": "stdout",
     "output_type": "stream",
     "text": [
      "  W3C Mission\n",
      "\n",
      "   Principles\n",
      "\n"
     ]
    }
   ],
   "source": [
    "infile = open('w3c.html')\n",
    "content = infile.read()\n",
    "infile.close()\n",
    "hp = HeadingParser()\n",
    "hp.feed(content)\n"
   ]
  },
  {
   "cell_type": "code",
   "execution_count": null,
   "id": "c0c5986a",
   "metadata": {},
   "outputs": [],
   "source": []
  },
  {
   "cell_type": "code",
   "execution_count": null,
   "id": "a6a26c14",
   "metadata": {},
   "outputs": [],
   "source": []
  }
 ],
 "metadata": {
  "kernelspec": {
   "display_name": "Python 3 (ipykernel)",
   "language": "python",
   "name": "python3"
  },
  "language_info": {
   "codemirror_mode": {
    "name": "ipython",
    "version": 3
   },
   "file_extension": ".py",
   "mimetype": "text/x-python",
   "name": "python",
   "nbconvert_exporter": "python",
   "pygments_lexer": "ipython3",
   "version": "3.8.13"
  }
 },
 "nbformat": 4,
 "nbformat_minor": 5
}
